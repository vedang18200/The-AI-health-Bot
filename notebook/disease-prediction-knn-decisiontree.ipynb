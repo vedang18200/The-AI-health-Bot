{
 "cells": [
  {
   "cell_type": "code",
   "execution_count": 2,
   "id": "a9e63796",
   "metadata": {
    "_cell_guid": "b1076dfc-b9ad-4769-8c92-a6c4dae69d19",
    "_uuid": "8f2839f25d086af736a60e9eeb907d3b93b6e0e5",
    "papermill": {
     "duration": 0.694334,
     "end_time": "2024-01-03T18:56:44.302616",
     "exception": false,
     "start_time": "2024-01-03T18:56:43.608282",
     "status": "completed"
    },
    "tags": []
   },
   "outputs": [],
   "source": [
    "# This Python 3 environment comes with many helpful analytics libraries installed\n",
    "# It is defined by the kaggle/python Docker image: https://github.com/kaggle/docker-python\n",
    "# For example, here's several helpful packages to load\n",
    "\n",
    "import numpy as np # linear algebra\n",
    "import pandas as pd # data processing, CSV file I/O (e.g. pd.read_csv)\n",
    "\n",
    "# Input data files are available in the read-only \"../input/\" directory\n",
    "# For example, running this (by clicking run or pressing Shift+Enter) will list all files under the input directory\n",
    "\n",
    "import os\n",
    "for dirname, _, filenames in os.walk('/kaggle/input'):\n",
    "    for filename in filenames:\n",
    "        print(os.path.join(dirname, filename))\n",
    "\n",
    "# You can write up to 20GB to the current directory (/kaggle/working/) that gets preserved as output when you create a version using \"Save & Run All\" \n",
    "# You can also write temporary files to /kaggle/temp/, but they won't be saved outside of the current session"
   ]
  },
  {
   "cell_type": "code",
   "execution_count": 3,
   "id": "4a06dc0c",
   "metadata": {
    "papermill": {
     "duration": 1.292353,
     "end_time": "2024-01-03T18:56:45.604773",
     "exception": false,
     "start_time": "2024-01-03T18:56:44.312420",
     "status": "completed"
    },
    "tags": []
   },
   "outputs": [],
   "source": [
    "# Importing libraries\n",
    "from sklearn.model_selection import train_test_split, cross_val_score\n",
    "from sklearn.metrics import accuracy_score, confusion_matrix\n",
    "from sklearn.base import BaseEstimator, TransformerMixin\n",
    "from sklearn.ensemble import RandomForestClassifier\n",
    "from sklearn.preprocessing import LabelEncoder\n",
    "from sklearn.compose import ColumnTransformer\n",
    "from sklearn.naive_bayes import GaussianNB\n",
    "from sklearn.pipeline import Pipeline\n",
    "import matplotlib.pyplot as plt\n",
    "from collections import Counter\n",
    "from scipy.stats import mode\n",
    "from sklearn.svm import SVC\n",
    "import seaborn as sns\n",
    "import pandas as pd\n",
    "import numpy as np\n",
    "\n",
    "import warnings\n",
    "# Suppress scikit-learn warnings\n",
    "warnings.filterwarnings(\"ignore\", category=UserWarning)"
   ]
  },
  {
   "cell_type": "markdown",
   "id": "f985c252",
   "metadata": {
    "papermill": {
     "duration": 0.008909,
     "end_time": "2024-01-03T18:56:45.623222",
     "exception": false,
     "start_time": "2024-01-03T18:56:45.614313",
     "status": "completed"
    },
    "tags": []
   },
   "source": [
    "# Reading dataset"
   ]
  },
  {
   "cell_type": "code",
   "execution_count": 7,
   "id": "622f8ab4",
   "metadata": {
    "papermill": {
     "duration": 0.091648,
     "end_time": "2024-01-03T18:56:45.723803",
     "exception": false,
     "start_time": "2024-01-03T18:56:45.632155",
     "status": "completed"
    },
    "tags": []
   },
   "outputs": [],
   "source": [
    "data = pd.read_csv(r'V:\\The AI health Bot\\notebook\\dataset\\female.csv')\n"
   ]
  },
  {
   "cell_type": "code",
   "execution_count": 8,
   "id": "0cfb96b5",
   "metadata": {
    "papermill": {
     "duration": 0.041251,
     "end_time": "2024-01-03T18:56:45.774646",
     "exception": false,
     "start_time": "2024-01-03T18:56:45.733395",
     "status": "completed"
    },
    "tags": []
   },
   "outputs": [
    {
     "data": {
      "text/html": [
       "<div>\n",
       "<style scoped>\n",
       "    .dataframe tbody tr th:only-of-type {\n",
       "        vertical-align: middle;\n",
       "    }\n",
       "\n",
       "    .dataframe tbody tr th {\n",
       "        vertical-align: top;\n",
       "    }\n",
       "\n",
       "    .dataframe thead th {\n",
       "        text-align: right;\n",
       "    }\n",
       "</style>\n",
       "<table border=\"1\" class=\"dataframe\">\n",
       "  <thead>\n",
       "    <tr style=\"text-align: right;\">\n",
       "      <th></th>\n",
       "      <th>disease</th>\n",
       "      <th>shortness of breath</th>\n",
       "      <th>dizziness</th>\n",
       "      <th>asthenia</th>\n",
       "      <th>fall</th>\n",
       "      <th>syncope</th>\n",
       "      <th>vertigo</th>\n",
       "      <th>sweat</th>\n",
       "      <th>sweating increased</th>\n",
       "      <th>palpitation</th>\n",
       "      <th>...</th>\n",
       "      <th>feces in rectum</th>\n",
       "      <th>prodrome</th>\n",
       "      <th>hypoproteinemia</th>\n",
       "      <th>alcohol binge episode</th>\n",
       "      <th>abdomen acute</th>\n",
       "      <th>air fluid level</th>\n",
       "      <th>catching breath</th>\n",
       "      <th>large-for-dates fetus</th>\n",
       "      <th>immobile</th>\n",
       "      <th>homicidal thoughts</th>\n",
       "    </tr>\n",
       "  </thead>\n",
       "  <tbody>\n",
       "    <tr>\n",
       "      <th>0</th>\n",
       "      <td>Alzheimer's disease</td>\n",
       "      <td>0.0</td>\n",
       "      <td>0.0</td>\n",
       "      <td>0.0</td>\n",
       "      <td>0.0</td>\n",
       "      <td>0.0</td>\n",
       "      <td>0.0</td>\n",
       "      <td>0.0</td>\n",
       "      <td>0.0</td>\n",
       "      <td>0.0</td>\n",
       "      <td>...</td>\n",
       "      <td>0.0</td>\n",
       "      <td>0.0</td>\n",
       "      <td>0.0</td>\n",
       "      <td>0.0</td>\n",
       "      <td>0.0</td>\n",
       "      <td>1.0</td>\n",
       "      <td>0.0</td>\n",
       "      <td>0.0</td>\n",
       "      <td>0.0</td>\n",
       "      <td>0.0</td>\n",
       "    </tr>\n",
       "    <tr>\n",
       "      <th>1</th>\n",
       "      <td>HIV</td>\n",
       "      <td>0.0</td>\n",
       "      <td>0.0</td>\n",
       "      <td>0.0</td>\n",
       "      <td>0.0</td>\n",
       "      <td>0.0</td>\n",
       "      <td>0.0</td>\n",
       "      <td>0.0</td>\n",
       "      <td>0.0</td>\n",
       "      <td>0.0</td>\n",
       "      <td>...</td>\n",
       "      <td>0.0</td>\n",
       "      <td>0.0</td>\n",
       "      <td>0.0</td>\n",
       "      <td>0.0</td>\n",
       "      <td>0.0</td>\n",
       "      <td>0.0</td>\n",
       "      <td>0.0</td>\n",
       "      <td>0.0</td>\n",
       "      <td>0.0</td>\n",
       "      <td>0.0</td>\n",
       "    </tr>\n",
       "    <tr>\n",
       "      <th>2</th>\n",
       "      <td>Pneumocystis carinii pneumonia</td>\n",
       "      <td>0.0</td>\n",
       "      <td>0.0</td>\n",
       "      <td>0.0</td>\n",
       "      <td>0.0</td>\n",
       "      <td>0.0</td>\n",
       "      <td>0.0</td>\n",
       "      <td>0.0</td>\n",
       "      <td>0.0</td>\n",
       "      <td>0.0</td>\n",
       "      <td>...</td>\n",
       "      <td>0.0</td>\n",
       "      <td>0.0</td>\n",
       "      <td>0.0</td>\n",
       "      <td>0.0</td>\n",
       "      <td>0.0</td>\n",
       "      <td>0.0</td>\n",
       "      <td>0.0</td>\n",
       "      <td>0.0</td>\n",
       "      <td>0.0</td>\n",
       "      <td>1.0</td>\n",
       "    </tr>\n",
       "    <tr>\n",
       "      <th>3</th>\n",
       "      <td>accident cerebrovascular</td>\n",
       "      <td>0.0</td>\n",
       "      <td>0.0</td>\n",
       "      <td>0.0</td>\n",
       "      <td>0.0</td>\n",
       "      <td>0.0</td>\n",
       "      <td>0.0</td>\n",
       "      <td>0.0</td>\n",
       "      <td>0.0</td>\n",
       "      <td>0.0</td>\n",
       "      <td>...</td>\n",
       "      <td>0.0</td>\n",
       "      <td>0.0</td>\n",
       "      <td>0.0</td>\n",
       "      <td>0.0</td>\n",
       "      <td>0.0</td>\n",
       "      <td>0.0</td>\n",
       "      <td>0.0</td>\n",
       "      <td>0.0</td>\n",
       "      <td>0.0</td>\n",
       "      <td>0.0</td>\n",
       "    </tr>\n",
       "    <tr>\n",
       "      <th>4</th>\n",
       "      <td>acquired immuno-deficiency syndrome</td>\n",
       "      <td>0.0</td>\n",
       "      <td>0.0</td>\n",
       "      <td>0.0</td>\n",
       "      <td>0.0</td>\n",
       "      <td>0.0</td>\n",
       "      <td>0.0</td>\n",
       "      <td>0.0</td>\n",
       "      <td>0.0</td>\n",
       "      <td>0.0</td>\n",
       "      <td>...</td>\n",
       "      <td>0.0</td>\n",
       "      <td>0.0</td>\n",
       "      <td>0.0</td>\n",
       "      <td>0.0</td>\n",
       "      <td>0.0</td>\n",
       "      <td>0.0</td>\n",
       "      <td>0.0</td>\n",
       "      <td>0.0</td>\n",
       "      <td>0.0</td>\n",
       "      <td>0.0</td>\n",
       "    </tr>\n",
       "  </tbody>\n",
       "</table>\n",
       "<p>5 rows × 405 columns</p>\n",
       "</div>"
      ],
      "text/plain": [
       "                               disease  shortness of breath  dizziness  \\\n",
       "0                  Alzheimer's disease                  0.0        0.0   \n",
       "1                                  HIV                  0.0        0.0   \n",
       "2       Pneumocystis carinii pneumonia                  0.0        0.0   \n",
       "3             accident cerebrovascular                  0.0        0.0   \n",
       "4  acquired immuno-deficiency syndrome                  0.0        0.0   \n",
       "\n",
       "   asthenia  fall  syncope  vertigo  sweat  sweating increased  palpitation  \\\n",
       "0       0.0   0.0      0.0      0.0    0.0                 0.0          0.0   \n",
       "1       0.0   0.0      0.0      0.0    0.0                 0.0          0.0   \n",
       "2       0.0   0.0      0.0      0.0    0.0                 0.0          0.0   \n",
       "3       0.0   0.0      0.0      0.0    0.0                 0.0          0.0   \n",
       "4       0.0   0.0      0.0      0.0    0.0                 0.0          0.0   \n",
       "\n",
       "   ...  feces in rectum  prodrome  hypoproteinemia  alcohol binge episode  \\\n",
       "0  ...              0.0       0.0              0.0                    0.0   \n",
       "1  ...              0.0       0.0              0.0                    0.0   \n",
       "2  ...              0.0       0.0              0.0                    0.0   \n",
       "3  ...              0.0       0.0              0.0                    0.0   \n",
       "4  ...              0.0       0.0              0.0                    0.0   \n",
       "\n",
       "   abdomen acute  air fluid level  catching breath  large-for-dates fetus  \\\n",
       "0            0.0              1.0              0.0                    0.0   \n",
       "1            0.0              0.0              0.0                    0.0   \n",
       "2            0.0              0.0              0.0                    0.0   \n",
       "3            0.0              0.0              0.0                    0.0   \n",
       "4            0.0              0.0              0.0                    0.0   \n",
       "\n",
       "   immobile  homicidal thoughts  \n",
       "0       0.0                 0.0  \n",
       "1       0.0                 0.0  \n",
       "2       0.0                 1.0  \n",
       "3       0.0                 0.0  \n",
       "4       0.0                 0.0  \n",
       "\n",
       "[5 rows x 405 columns]"
      ]
     },
     "execution_count": 8,
     "metadata": {},
     "output_type": "execute_result"
    }
   ],
   "source": [
    "data.head()\n"
   ]
  },
  {
   "cell_type": "code",
   "execution_count": 9,
   "id": "27229a13",
   "metadata": {
    "papermill": {
     "duration": 0.034201,
     "end_time": "2024-01-03T18:56:45.818396",
     "exception": false,
     "start_time": "2024-01-03T18:56:45.784195",
     "status": "completed"
    },
    "tags": []
   },
   "outputs": [
    {
     "data": {
      "text/html": [
       "<div>\n",
       "<style scoped>\n",
       "    .dataframe tbody tr th:only-of-type {\n",
       "        vertical-align: middle;\n",
       "    }\n",
       "\n",
       "    .dataframe tbody tr th {\n",
       "        vertical-align: top;\n",
       "    }\n",
       "\n",
       "    .dataframe thead th {\n",
       "        text-align: right;\n",
       "    }\n",
       "</style>\n",
       "<table border=\"1\" class=\"dataframe\">\n",
       "  <thead>\n",
       "    <tr style=\"text-align: right;\">\n",
       "      <th></th>\n",
       "      <th>disease</th>\n",
       "      <th>shortness of breath</th>\n",
       "      <th>dizziness</th>\n",
       "      <th>asthenia</th>\n",
       "      <th>fall</th>\n",
       "      <th>syncope</th>\n",
       "      <th>vertigo</th>\n",
       "      <th>sweat</th>\n",
       "      <th>sweating increased</th>\n",
       "      <th>palpitation</th>\n",
       "      <th>...</th>\n",
       "      <th>feces in rectum</th>\n",
       "      <th>prodrome</th>\n",
       "      <th>hypoproteinemia</th>\n",
       "      <th>alcohol binge episode</th>\n",
       "      <th>abdomen acute</th>\n",
       "      <th>air fluid level</th>\n",
       "      <th>catching breath</th>\n",
       "      <th>large-for-dates fetus</th>\n",
       "      <th>immobile</th>\n",
       "      <th>homicidal thoughts</th>\n",
       "    </tr>\n",
       "  </thead>\n",
       "  <tbody>\n",
       "    <tr>\n",
       "      <th>0</th>\n",
       "      <td>Alzheimer's disease</td>\n",
       "      <td>0.0</td>\n",
       "      <td>0.0</td>\n",
       "      <td>0.0</td>\n",
       "      <td>0.0</td>\n",
       "      <td>0.0</td>\n",
       "      <td>0.0</td>\n",
       "      <td>0.0</td>\n",
       "      <td>0.0</td>\n",
       "      <td>0.0</td>\n",
       "      <td>...</td>\n",
       "      <td>0.0</td>\n",
       "      <td>0.0</td>\n",
       "      <td>0.0</td>\n",
       "      <td>0.0</td>\n",
       "      <td>0.0</td>\n",
       "      <td>1.0</td>\n",
       "      <td>0.0</td>\n",
       "      <td>0.0</td>\n",
       "      <td>0.0</td>\n",
       "      <td>0.0</td>\n",
       "    </tr>\n",
       "    <tr>\n",
       "      <th>1</th>\n",
       "      <td>HIV</td>\n",
       "      <td>0.0</td>\n",
       "      <td>0.0</td>\n",
       "      <td>0.0</td>\n",
       "      <td>0.0</td>\n",
       "      <td>0.0</td>\n",
       "      <td>0.0</td>\n",
       "      <td>0.0</td>\n",
       "      <td>0.0</td>\n",
       "      <td>0.0</td>\n",
       "      <td>...</td>\n",
       "      <td>0.0</td>\n",
       "      <td>0.0</td>\n",
       "      <td>0.0</td>\n",
       "      <td>0.0</td>\n",
       "      <td>0.0</td>\n",
       "      <td>0.0</td>\n",
       "      <td>0.0</td>\n",
       "      <td>0.0</td>\n",
       "      <td>0.0</td>\n",
       "      <td>0.0</td>\n",
       "    </tr>\n",
       "    <tr>\n",
       "      <th>2</th>\n",
       "      <td>Pneumocystis carinii pneumonia</td>\n",
       "      <td>0.0</td>\n",
       "      <td>0.0</td>\n",
       "      <td>0.0</td>\n",
       "      <td>0.0</td>\n",
       "      <td>0.0</td>\n",
       "      <td>0.0</td>\n",
       "      <td>0.0</td>\n",
       "      <td>0.0</td>\n",
       "      <td>0.0</td>\n",
       "      <td>...</td>\n",
       "      <td>0.0</td>\n",
       "      <td>0.0</td>\n",
       "      <td>0.0</td>\n",
       "      <td>0.0</td>\n",
       "      <td>0.0</td>\n",
       "      <td>0.0</td>\n",
       "      <td>0.0</td>\n",
       "      <td>0.0</td>\n",
       "      <td>0.0</td>\n",
       "      <td>1.0</td>\n",
       "    </tr>\n",
       "    <tr>\n",
       "      <th>3</th>\n",
       "      <td>accident cerebrovascular</td>\n",
       "      <td>0.0</td>\n",
       "      <td>0.0</td>\n",
       "      <td>0.0</td>\n",
       "      <td>0.0</td>\n",
       "      <td>0.0</td>\n",
       "      <td>0.0</td>\n",
       "      <td>0.0</td>\n",
       "      <td>0.0</td>\n",
       "      <td>0.0</td>\n",
       "      <td>...</td>\n",
       "      <td>0.0</td>\n",
       "      <td>0.0</td>\n",
       "      <td>0.0</td>\n",
       "      <td>0.0</td>\n",
       "      <td>0.0</td>\n",
       "      <td>0.0</td>\n",
       "      <td>0.0</td>\n",
       "      <td>0.0</td>\n",
       "      <td>0.0</td>\n",
       "      <td>0.0</td>\n",
       "    </tr>\n",
       "    <tr>\n",
       "      <th>4</th>\n",
       "      <td>acquired immuno-deficiency syndrome</td>\n",
       "      <td>0.0</td>\n",
       "      <td>0.0</td>\n",
       "      <td>0.0</td>\n",
       "      <td>0.0</td>\n",
       "      <td>0.0</td>\n",
       "      <td>0.0</td>\n",
       "      <td>0.0</td>\n",
       "      <td>0.0</td>\n",
       "      <td>0.0</td>\n",
       "      <td>...</td>\n",
       "      <td>0.0</td>\n",
       "      <td>0.0</td>\n",
       "      <td>0.0</td>\n",
       "      <td>0.0</td>\n",
       "      <td>0.0</td>\n",
       "      <td>0.0</td>\n",
       "      <td>0.0</td>\n",
       "      <td>0.0</td>\n",
       "      <td>0.0</td>\n",
       "      <td>0.0</td>\n",
       "    </tr>\n",
       "    <tr>\n",
       "      <th>...</th>\n",
       "      <td>...</td>\n",
       "      <td>...</td>\n",
       "      <td>...</td>\n",
       "      <td>...</td>\n",
       "      <td>...</td>\n",
       "      <td>...</td>\n",
       "      <td>...</td>\n",
       "      <td>...</td>\n",
       "      <td>...</td>\n",
       "      <td>...</td>\n",
       "      <td>...</td>\n",
       "      <td>...</td>\n",
       "      <td>...</td>\n",
       "      <td>...</td>\n",
       "      <td>...</td>\n",
       "      <td>...</td>\n",
       "      <td>...</td>\n",
       "      <td>...</td>\n",
       "      <td>...</td>\n",
       "      <td>...</td>\n",
       "      <td>...</td>\n",
       "    </tr>\n",
       "    <tr>\n",
       "      <th>144</th>\n",
       "      <td>tonic-clonic seizures</td>\n",
       "      <td>0.0</td>\n",
       "      <td>0.0</td>\n",
       "      <td>0.0</td>\n",
       "      <td>0.0</td>\n",
       "      <td>0.0</td>\n",
       "      <td>0.0</td>\n",
       "      <td>0.0</td>\n",
       "      <td>0.0</td>\n",
       "      <td>0.0</td>\n",
       "      <td>...</td>\n",
       "      <td>0.0</td>\n",
       "      <td>0.0</td>\n",
       "      <td>0.0</td>\n",
       "      <td>0.0</td>\n",
       "      <td>0.0</td>\n",
       "      <td>0.0</td>\n",
       "      <td>0.0</td>\n",
       "      <td>0.0</td>\n",
       "      <td>0.0</td>\n",
       "      <td>0.0</td>\n",
       "    </tr>\n",
       "    <tr>\n",
       "      <th>145</th>\n",
       "      <td>transient ischemic attack</td>\n",
       "      <td>0.0</td>\n",
       "      <td>0.0</td>\n",
       "      <td>1.0</td>\n",
       "      <td>0.0</td>\n",
       "      <td>0.0</td>\n",
       "      <td>0.0</td>\n",
       "      <td>0.0</td>\n",
       "      <td>0.0</td>\n",
       "      <td>0.0</td>\n",
       "      <td>...</td>\n",
       "      <td>1.0</td>\n",
       "      <td>0.0</td>\n",
       "      <td>0.0</td>\n",
       "      <td>0.0</td>\n",
       "      <td>0.0</td>\n",
       "      <td>0.0</td>\n",
       "      <td>0.0</td>\n",
       "      <td>0.0</td>\n",
       "      <td>0.0</td>\n",
       "      <td>0.0</td>\n",
       "    </tr>\n",
       "    <tr>\n",
       "      <th>146</th>\n",
       "      <td>tricuspid valve insufficiency</td>\n",
       "      <td>0.0</td>\n",
       "      <td>0.0</td>\n",
       "      <td>0.0</td>\n",
       "      <td>0.0</td>\n",
       "      <td>0.0</td>\n",
       "      <td>0.0</td>\n",
       "      <td>0.0</td>\n",
       "      <td>0.0</td>\n",
       "      <td>0.0</td>\n",
       "      <td>...</td>\n",
       "      <td>0.0</td>\n",
       "      <td>0.0</td>\n",
       "      <td>0.0</td>\n",
       "      <td>0.0</td>\n",
       "      <td>0.0</td>\n",
       "      <td>0.0</td>\n",
       "      <td>0.0</td>\n",
       "      <td>0.0</td>\n",
       "      <td>0.0</td>\n",
       "      <td>0.0</td>\n",
       "    </tr>\n",
       "    <tr>\n",
       "      <th>147</th>\n",
       "      <td>ulcer peptic</td>\n",
       "      <td>0.0</td>\n",
       "      <td>0.0</td>\n",
       "      <td>0.0</td>\n",
       "      <td>0.0</td>\n",
       "      <td>0.0</td>\n",
       "      <td>0.0</td>\n",
       "      <td>0.0</td>\n",
       "      <td>0.0</td>\n",
       "      <td>0.0</td>\n",
       "      <td>...</td>\n",
       "      <td>0.0</td>\n",
       "      <td>1.0</td>\n",
       "      <td>0.0</td>\n",
       "      <td>0.0</td>\n",
       "      <td>0.0</td>\n",
       "      <td>0.0</td>\n",
       "      <td>0.0</td>\n",
       "      <td>0.0</td>\n",
       "      <td>0.0</td>\n",
       "      <td>0.0</td>\n",
       "    </tr>\n",
       "    <tr>\n",
       "      <th>148</th>\n",
       "      <td>upper respiratory infection</td>\n",
       "      <td>0.0</td>\n",
       "      <td>0.0</td>\n",
       "      <td>0.0</td>\n",
       "      <td>0.0</td>\n",
       "      <td>0.0</td>\n",
       "      <td>0.0</td>\n",
       "      <td>0.0</td>\n",
       "      <td>0.0</td>\n",
       "      <td>0.0</td>\n",
       "      <td>...</td>\n",
       "      <td>0.0</td>\n",
       "      <td>0.0</td>\n",
       "      <td>0.0</td>\n",
       "      <td>0.0</td>\n",
       "      <td>0.0</td>\n",
       "      <td>0.0</td>\n",
       "      <td>0.0</td>\n",
       "      <td>0.0</td>\n",
       "      <td>0.0</td>\n",
       "      <td>0.0</td>\n",
       "    </tr>\n",
       "  </tbody>\n",
       "</table>\n",
       "<p>149 rows × 405 columns</p>\n",
       "</div>"
      ],
      "text/plain": [
       "                                 disease  shortness of breath  dizziness  \\\n",
       "0                    Alzheimer's disease                  0.0        0.0   \n",
       "1                                    HIV                  0.0        0.0   \n",
       "2         Pneumocystis carinii pneumonia                  0.0        0.0   \n",
       "3               accident cerebrovascular                  0.0        0.0   \n",
       "4    acquired immuno-deficiency syndrome                  0.0        0.0   \n",
       "..                                   ...                  ...        ...   \n",
       "144                tonic-clonic seizures                  0.0        0.0   \n",
       "145            transient ischemic attack                  0.0        0.0   \n",
       "146        tricuspid valve insufficiency                  0.0        0.0   \n",
       "147                         ulcer peptic                  0.0        0.0   \n",
       "148          upper respiratory infection                  0.0        0.0   \n",
       "\n",
       "     asthenia  fall  syncope  vertigo  sweat  sweating increased  palpitation  \\\n",
       "0         0.0   0.0      0.0      0.0    0.0                 0.0          0.0   \n",
       "1         0.0   0.0      0.0      0.0    0.0                 0.0          0.0   \n",
       "2         0.0   0.0      0.0      0.0    0.0                 0.0          0.0   \n",
       "3         0.0   0.0      0.0      0.0    0.0                 0.0          0.0   \n",
       "4         0.0   0.0      0.0      0.0    0.0                 0.0          0.0   \n",
       "..        ...   ...      ...      ...    ...                 ...          ...   \n",
       "144       0.0   0.0      0.0      0.0    0.0                 0.0          0.0   \n",
       "145       1.0   0.0      0.0      0.0    0.0                 0.0          0.0   \n",
       "146       0.0   0.0      0.0      0.0    0.0                 0.0          0.0   \n",
       "147       0.0   0.0      0.0      0.0    0.0                 0.0          0.0   \n",
       "148       0.0   0.0      0.0      0.0    0.0                 0.0          0.0   \n",
       "\n",
       "     ...  feces in rectum  prodrome  hypoproteinemia  alcohol binge episode  \\\n",
       "0    ...              0.0       0.0              0.0                    0.0   \n",
       "1    ...              0.0       0.0              0.0                    0.0   \n",
       "2    ...              0.0       0.0              0.0                    0.0   \n",
       "3    ...              0.0       0.0              0.0                    0.0   \n",
       "4    ...              0.0       0.0              0.0                    0.0   \n",
       "..   ...              ...       ...              ...                    ...   \n",
       "144  ...              0.0       0.0              0.0                    0.0   \n",
       "145  ...              1.0       0.0              0.0                    0.0   \n",
       "146  ...              0.0       0.0              0.0                    0.0   \n",
       "147  ...              0.0       1.0              0.0                    0.0   \n",
       "148  ...              0.0       0.0              0.0                    0.0   \n",
       "\n",
       "     abdomen acute  air fluid level  catching breath  large-for-dates fetus  \\\n",
       "0              0.0              1.0              0.0                    0.0   \n",
       "1              0.0              0.0              0.0                    0.0   \n",
       "2              0.0              0.0              0.0                    0.0   \n",
       "3              0.0              0.0              0.0                    0.0   \n",
       "4              0.0              0.0              0.0                    0.0   \n",
       "..             ...              ...              ...                    ...   \n",
       "144            0.0              0.0              0.0                    0.0   \n",
       "145            0.0              0.0              0.0                    0.0   \n",
       "146            0.0              0.0              0.0                    0.0   \n",
       "147            0.0              0.0              0.0                    0.0   \n",
       "148            0.0              0.0              0.0                    0.0   \n",
       "\n",
       "     immobile  homicidal thoughts  \n",
       "0         0.0                 0.0  \n",
       "1         0.0                 0.0  \n",
       "2         0.0                 1.0  \n",
       "3         0.0                 0.0  \n",
       "4         0.0                 0.0  \n",
       "..        ...                 ...  \n",
       "144       0.0                 0.0  \n",
       "145       0.0                 0.0  \n",
       "146       0.0                 0.0  \n",
       "147       0.0                 0.0  \n",
       "148       0.0                 0.0  \n",
       "\n",
       "[149 rows x 405 columns]"
      ]
     },
     "execution_count": 9,
     "metadata": {},
     "output_type": "execute_result"
    }
   ],
   "source": [
    "data"
   ]
  },
  {
   "cell_type": "code",
   "execution_count": 10,
   "id": "ed190b86",
   "metadata": {
    "papermill": {
     "duration": 0.264047,
     "end_time": "2024-01-03T18:56:46.092629",
     "exception": false,
     "start_time": "2024-01-03T18:56:45.828582",
     "status": "completed"
    },
    "tags": []
   },
   "outputs": [
    {
     "data": {
      "text/html": [
       "<div>\n",
       "<style scoped>\n",
       "    .dataframe tbody tr th:only-of-type {\n",
       "        vertical-align: middle;\n",
       "    }\n",
       "\n",
       "    .dataframe tbody tr th {\n",
       "        vertical-align: top;\n",
       "    }\n",
       "\n",
       "    .dataframe thead th {\n",
       "        text-align: right;\n",
       "    }\n",
       "</style>\n",
       "<table border=\"1\" class=\"dataframe\">\n",
       "  <thead>\n",
       "    <tr style=\"text-align: right;\">\n",
       "      <th></th>\n",
       "      <th>count</th>\n",
       "      <th>mean</th>\n",
       "      <th>std</th>\n",
       "      <th>min</th>\n",
       "      <th>25%</th>\n",
       "      <th>50%</th>\n",
       "      <th>75%</th>\n",
       "      <th>max</th>\n",
       "    </tr>\n",
       "  </thead>\n",
       "  <tbody>\n",
       "    <tr>\n",
       "      <th>shortness of breath</th>\n",
       "      <td>149.0</td>\n",
       "      <td>0.006711</td>\n",
       "      <td>0.081923</td>\n",
       "      <td>0.0</td>\n",
       "      <td>0.0</td>\n",
       "      <td>0.0</td>\n",
       "      <td>0.0</td>\n",
       "      <td>1.0</td>\n",
       "    </tr>\n",
       "    <tr>\n",
       "      <th>dizziness</th>\n",
       "      <td>149.0</td>\n",
       "      <td>0.006711</td>\n",
       "      <td>0.081923</td>\n",
       "      <td>0.0</td>\n",
       "      <td>0.0</td>\n",
       "      <td>0.0</td>\n",
       "      <td>0.0</td>\n",
       "      <td>1.0</td>\n",
       "    </tr>\n",
       "    <tr>\n",
       "      <th>asthenia</th>\n",
       "      <td>149.0</td>\n",
       "      <td>0.020134</td>\n",
       "      <td>0.140933</td>\n",
       "      <td>0.0</td>\n",
       "      <td>0.0</td>\n",
       "      <td>0.0</td>\n",
       "      <td>0.0</td>\n",
       "      <td>1.0</td>\n",
       "    </tr>\n",
       "    <tr>\n",
       "      <th>fall</th>\n",
       "      <td>149.0</td>\n",
       "      <td>0.006711</td>\n",
       "      <td>0.081923</td>\n",
       "      <td>0.0</td>\n",
       "      <td>0.0</td>\n",
       "      <td>0.0</td>\n",
       "      <td>0.0</td>\n",
       "      <td>1.0</td>\n",
       "    </tr>\n",
       "    <tr>\n",
       "      <th>syncope</th>\n",
       "      <td>149.0</td>\n",
       "      <td>0.013423</td>\n",
       "      <td>0.115465</td>\n",
       "      <td>0.0</td>\n",
       "      <td>0.0</td>\n",
       "      <td>0.0</td>\n",
       "      <td>0.0</td>\n",
       "      <td>1.0</td>\n",
       "    </tr>\n",
       "    <tr>\n",
       "      <th>...</th>\n",
       "      <td>...</td>\n",
       "      <td>...</td>\n",
       "      <td>...</td>\n",
       "      <td>...</td>\n",
       "      <td>...</td>\n",
       "      <td>...</td>\n",
       "      <td>...</td>\n",
       "      <td>...</td>\n",
       "    </tr>\n",
       "    <tr>\n",
       "      <th>air fluid level</th>\n",
       "      <td>149.0</td>\n",
       "      <td>0.020134</td>\n",
       "      <td>0.140933</td>\n",
       "      <td>0.0</td>\n",
       "      <td>0.0</td>\n",
       "      <td>0.0</td>\n",
       "      <td>0.0</td>\n",
       "      <td>1.0</td>\n",
       "    </tr>\n",
       "    <tr>\n",
       "      <th>catching breath</th>\n",
       "      <td>149.0</td>\n",
       "      <td>0.073826</td>\n",
       "      <td>0.262369</td>\n",
       "      <td>0.0</td>\n",
       "      <td>0.0</td>\n",
       "      <td>0.0</td>\n",
       "      <td>0.0</td>\n",
       "      <td>1.0</td>\n",
       "    </tr>\n",
       "    <tr>\n",
       "      <th>large-for-dates fetus</th>\n",
       "      <td>149.0</td>\n",
       "      <td>0.026846</td>\n",
       "      <td>0.162177</td>\n",
       "      <td>0.0</td>\n",
       "      <td>0.0</td>\n",
       "      <td>0.0</td>\n",
       "      <td>0.0</td>\n",
       "      <td>1.0</td>\n",
       "    </tr>\n",
       "    <tr>\n",
       "      <th>immobile</th>\n",
       "      <td>149.0</td>\n",
       "      <td>0.080537</td>\n",
       "      <td>0.273040</td>\n",
       "      <td>0.0</td>\n",
       "      <td>0.0</td>\n",
       "      <td>0.0</td>\n",
       "      <td>0.0</td>\n",
       "      <td>1.0</td>\n",
       "    </tr>\n",
       "    <tr>\n",
       "      <th>homicidal thoughts</th>\n",
       "      <td>149.0</td>\n",
       "      <td>0.040268</td>\n",
       "      <td>0.197251</td>\n",
       "      <td>0.0</td>\n",
       "      <td>0.0</td>\n",
       "      <td>0.0</td>\n",
       "      <td>0.0</td>\n",
       "      <td>1.0</td>\n",
       "    </tr>\n",
       "  </tbody>\n",
       "</table>\n",
       "<p>404 rows × 8 columns</p>\n",
       "</div>"
      ],
      "text/plain": [
       "                       count      mean       std  min  25%  50%  75%  max\n",
       "shortness of breath    149.0  0.006711  0.081923  0.0  0.0  0.0  0.0  1.0\n",
       "dizziness              149.0  0.006711  0.081923  0.0  0.0  0.0  0.0  1.0\n",
       "asthenia               149.0  0.020134  0.140933  0.0  0.0  0.0  0.0  1.0\n",
       "fall                   149.0  0.006711  0.081923  0.0  0.0  0.0  0.0  1.0\n",
       "syncope                149.0  0.013423  0.115465  0.0  0.0  0.0  0.0  1.0\n",
       "...                      ...       ...       ...  ...  ...  ...  ...  ...\n",
       "air fluid level        149.0  0.020134  0.140933  0.0  0.0  0.0  0.0  1.0\n",
       "catching breath        149.0  0.073826  0.262369  0.0  0.0  0.0  0.0  1.0\n",
       "large-for-dates fetus  149.0  0.026846  0.162177  0.0  0.0  0.0  0.0  1.0\n",
       "immobile               149.0  0.080537  0.273040  0.0  0.0  0.0  0.0  1.0\n",
       "homicidal thoughts     149.0  0.040268  0.197251  0.0  0.0  0.0  0.0  1.0\n",
       "\n",
       "[404 rows x 8 columns]"
      ]
     },
     "execution_count": 10,
     "metadata": {},
     "output_type": "execute_result"
    }
   ],
   "source": [
    "data.describe().T"
   ]
  },
  {
   "cell_type": "code",
   "execution_count": 11,
   "id": "134b0a2e",
   "metadata": {
    "papermill": {
     "duration": 0.021839,
     "end_time": "2024-01-03T18:56:46.126149",
     "exception": false,
     "start_time": "2024-01-03T18:56:46.104310",
     "status": "completed"
    },
    "tags": []
   },
   "outputs": [
    {
     "data": {
      "text/plain": [
       "disease                  0\n",
       "shortness of breath      0\n",
       "dizziness                0\n",
       "asthenia                 0\n",
       "fall                     0\n",
       "                        ..\n",
       "air fluid level          0\n",
       "catching breath          0\n",
       "large-for-dates fetus    0\n",
       "immobile                 0\n",
       "homicidal thoughts       0\n",
       "Length: 405, dtype: int64"
      ]
     },
     "execution_count": 11,
     "metadata": {},
     "output_type": "execute_result"
    }
   ],
   "source": [
    "data.isnull().sum()"
   ]
  },
  {
   "cell_type": "code",
   "execution_count": 12,
   "id": "3c02cc5e",
   "metadata": {
    "papermill": {
     "duration": 0.022883,
     "end_time": "2024-01-03T18:56:46.159803",
     "exception": false,
     "start_time": "2024-01-03T18:56:46.136920",
     "status": "completed"
    },
    "tags": []
   },
   "outputs": [],
   "source": [
    "data.dropna(axis=1,inplace=True)"
   ]
  },
  {
   "cell_type": "code",
   "execution_count": 16,
   "id": "56377a8c",
   "metadata": {
    "papermill": {
     "duration": 0.022324,
     "end_time": "2024-01-03T18:56:46.193068",
     "exception": false,
     "start_time": "2024-01-03T18:56:46.170744",
     "status": "completed"
    },
    "tags": []
   },
   "outputs": [
    {
     "ename": "KeyError",
     "evalue": "\"['prognosis'] not found in axis\"",
     "output_type": "error",
     "traceback": [
      "\u001b[1;31m---------------------------------------------------------------------------\u001b[0m",
      "\u001b[1;31mKeyError\u001b[0m                                  Traceback (most recent call last)",
      "Cell \u001b[1;32mIn[16], line 1\u001b[0m\n\u001b[1;32m----> 1\u001b[0m data_input \u001b[38;5;241m=\u001b[39m \u001b[43mdata\u001b[49m\u001b[38;5;241;43m.\u001b[39;49m\u001b[43mdrop\u001b[49m\u001b[43m(\u001b[49m\u001b[43mcolumns\u001b[49m\u001b[38;5;241;43m=\u001b[39;49m\u001b[43m[\u001b[49m\u001b[38;5;124;43m'\u001b[39;49m\u001b[38;5;124;43mprognosis\u001b[39;49m\u001b[38;5;124;43m'\u001b[39;49m\u001b[43m]\u001b[49m\u001b[43m)\u001b[49m\n\u001b[0;32m      2\u001b[0m data_output \u001b[38;5;241m=\u001b[39m data[\u001b[38;5;124m'\u001b[39m\u001b[38;5;124mprognosis\u001b[39m\u001b[38;5;124m'\u001b[39m]\n",
      "File \u001b[1;32mV:\\The AI health Bot\\test\\lib\\site-packages\\pandas\\core\\frame.py:5344\u001b[0m, in \u001b[0;36mDataFrame.drop\u001b[1;34m(self, labels, axis, index, columns, level, inplace, errors)\u001b[0m\n\u001b[0;32m   5196\u001b[0m \u001b[38;5;28;01mdef\u001b[39;00m \u001b[38;5;21mdrop\u001b[39m(\n\u001b[0;32m   5197\u001b[0m     \u001b[38;5;28mself\u001b[39m,\n\u001b[0;32m   5198\u001b[0m     labels: IndexLabel \u001b[38;5;241m|\u001b[39m \u001b[38;5;28;01mNone\u001b[39;00m \u001b[38;5;241m=\u001b[39m \u001b[38;5;28;01mNone\u001b[39;00m,\n\u001b[1;32m   (...)\u001b[0m\n\u001b[0;32m   5205\u001b[0m     errors: IgnoreRaise \u001b[38;5;241m=\u001b[39m \u001b[38;5;124m\"\u001b[39m\u001b[38;5;124mraise\u001b[39m\u001b[38;5;124m\"\u001b[39m,\n\u001b[0;32m   5206\u001b[0m ) \u001b[38;5;241m-\u001b[39m\u001b[38;5;241m>\u001b[39m DataFrame \u001b[38;5;241m|\u001b[39m \u001b[38;5;28;01mNone\u001b[39;00m:\n\u001b[0;32m   5207\u001b[0m \u001b[38;5;250m    \u001b[39m\u001b[38;5;124;03m\"\"\"\u001b[39;00m\n\u001b[0;32m   5208\u001b[0m \u001b[38;5;124;03m    Drop specified labels from rows or columns.\u001b[39;00m\n\u001b[0;32m   5209\u001b[0m \n\u001b[1;32m   (...)\u001b[0m\n\u001b[0;32m   5342\u001b[0m \u001b[38;5;124;03m            weight  1.0     0.8\u001b[39;00m\n\u001b[0;32m   5343\u001b[0m \u001b[38;5;124;03m    \"\"\"\u001b[39;00m\n\u001b[1;32m-> 5344\u001b[0m     \u001b[38;5;28;01mreturn\u001b[39;00m \u001b[38;5;28;43msuper\u001b[39;49m\u001b[43m(\u001b[49m\u001b[43m)\u001b[49m\u001b[38;5;241;43m.\u001b[39;49m\u001b[43mdrop\u001b[49m\u001b[43m(\u001b[49m\n\u001b[0;32m   5345\u001b[0m \u001b[43m        \u001b[49m\u001b[43mlabels\u001b[49m\u001b[38;5;241;43m=\u001b[39;49m\u001b[43mlabels\u001b[49m\u001b[43m,\u001b[49m\n\u001b[0;32m   5346\u001b[0m \u001b[43m        \u001b[49m\u001b[43maxis\u001b[49m\u001b[38;5;241;43m=\u001b[39;49m\u001b[43maxis\u001b[49m\u001b[43m,\u001b[49m\n\u001b[0;32m   5347\u001b[0m \u001b[43m        \u001b[49m\u001b[43mindex\u001b[49m\u001b[38;5;241;43m=\u001b[39;49m\u001b[43mindex\u001b[49m\u001b[43m,\u001b[49m\n\u001b[0;32m   5348\u001b[0m \u001b[43m        \u001b[49m\u001b[43mcolumns\u001b[49m\u001b[38;5;241;43m=\u001b[39;49m\u001b[43mcolumns\u001b[49m\u001b[43m,\u001b[49m\n\u001b[0;32m   5349\u001b[0m \u001b[43m        \u001b[49m\u001b[43mlevel\u001b[49m\u001b[38;5;241;43m=\u001b[39;49m\u001b[43mlevel\u001b[49m\u001b[43m,\u001b[49m\n\u001b[0;32m   5350\u001b[0m \u001b[43m        \u001b[49m\u001b[43minplace\u001b[49m\u001b[38;5;241;43m=\u001b[39;49m\u001b[43minplace\u001b[49m\u001b[43m,\u001b[49m\n\u001b[0;32m   5351\u001b[0m \u001b[43m        \u001b[49m\u001b[43merrors\u001b[49m\u001b[38;5;241;43m=\u001b[39;49m\u001b[43merrors\u001b[49m\u001b[43m,\u001b[49m\n\u001b[0;32m   5352\u001b[0m \u001b[43m    \u001b[49m\u001b[43m)\u001b[49m\n",
      "File \u001b[1;32mV:\\The AI health Bot\\test\\lib\\site-packages\\pandas\\core\\generic.py:4711\u001b[0m, in \u001b[0;36mNDFrame.drop\u001b[1;34m(self, labels, axis, index, columns, level, inplace, errors)\u001b[0m\n\u001b[0;32m   4709\u001b[0m \u001b[38;5;28;01mfor\u001b[39;00m axis, labels \u001b[38;5;129;01min\u001b[39;00m axes\u001b[38;5;241m.\u001b[39mitems():\n\u001b[0;32m   4710\u001b[0m     \u001b[38;5;28;01mif\u001b[39;00m labels \u001b[38;5;129;01mis\u001b[39;00m \u001b[38;5;129;01mnot\u001b[39;00m \u001b[38;5;28;01mNone\u001b[39;00m:\n\u001b[1;32m-> 4711\u001b[0m         obj \u001b[38;5;241m=\u001b[39m \u001b[43mobj\u001b[49m\u001b[38;5;241;43m.\u001b[39;49m\u001b[43m_drop_axis\u001b[49m\u001b[43m(\u001b[49m\u001b[43mlabels\u001b[49m\u001b[43m,\u001b[49m\u001b[43m \u001b[49m\u001b[43maxis\u001b[49m\u001b[43m,\u001b[49m\u001b[43m \u001b[49m\u001b[43mlevel\u001b[49m\u001b[38;5;241;43m=\u001b[39;49m\u001b[43mlevel\u001b[49m\u001b[43m,\u001b[49m\u001b[43m \u001b[49m\u001b[43merrors\u001b[49m\u001b[38;5;241;43m=\u001b[39;49m\u001b[43merrors\u001b[49m\u001b[43m)\u001b[49m\n\u001b[0;32m   4713\u001b[0m \u001b[38;5;28;01mif\u001b[39;00m inplace:\n\u001b[0;32m   4714\u001b[0m     \u001b[38;5;28mself\u001b[39m\u001b[38;5;241m.\u001b[39m_update_inplace(obj)\n",
      "File \u001b[1;32mV:\\The AI health Bot\\test\\lib\\site-packages\\pandas\\core\\generic.py:4753\u001b[0m, in \u001b[0;36mNDFrame._drop_axis\u001b[1;34m(self, labels, axis, level, errors, only_slice)\u001b[0m\n\u001b[0;32m   4751\u001b[0m         new_axis \u001b[38;5;241m=\u001b[39m axis\u001b[38;5;241m.\u001b[39mdrop(labels, level\u001b[38;5;241m=\u001b[39mlevel, errors\u001b[38;5;241m=\u001b[39merrors)\n\u001b[0;32m   4752\u001b[0m     \u001b[38;5;28;01melse\u001b[39;00m:\n\u001b[1;32m-> 4753\u001b[0m         new_axis \u001b[38;5;241m=\u001b[39m \u001b[43maxis\u001b[49m\u001b[38;5;241;43m.\u001b[39;49m\u001b[43mdrop\u001b[49m\u001b[43m(\u001b[49m\u001b[43mlabels\u001b[49m\u001b[43m,\u001b[49m\u001b[43m \u001b[49m\u001b[43merrors\u001b[49m\u001b[38;5;241;43m=\u001b[39;49m\u001b[43merrors\u001b[49m\u001b[43m)\u001b[49m\n\u001b[0;32m   4754\u001b[0m     indexer \u001b[38;5;241m=\u001b[39m axis\u001b[38;5;241m.\u001b[39mget_indexer(new_axis)\n\u001b[0;32m   4756\u001b[0m \u001b[38;5;66;03m# Case for non-unique axis\u001b[39;00m\n\u001b[0;32m   4757\u001b[0m \u001b[38;5;28;01melse\u001b[39;00m:\n",
      "File \u001b[1;32mV:\\The AI health Bot\\test\\lib\\site-packages\\pandas\\core\\indexes\\base.py:7000\u001b[0m, in \u001b[0;36mIndex.drop\u001b[1;34m(self, labels, errors)\u001b[0m\n\u001b[0;32m   6998\u001b[0m \u001b[38;5;28;01mif\u001b[39;00m mask\u001b[38;5;241m.\u001b[39many():\n\u001b[0;32m   6999\u001b[0m     \u001b[38;5;28;01mif\u001b[39;00m errors \u001b[38;5;241m!=\u001b[39m \u001b[38;5;124m\"\u001b[39m\u001b[38;5;124mignore\u001b[39m\u001b[38;5;124m\"\u001b[39m:\n\u001b[1;32m-> 7000\u001b[0m         \u001b[38;5;28;01mraise\u001b[39;00m \u001b[38;5;167;01mKeyError\u001b[39;00m(\u001b[38;5;124mf\u001b[39m\u001b[38;5;124m\"\u001b[39m\u001b[38;5;132;01m{\u001b[39;00mlabels[mask]\u001b[38;5;241m.\u001b[39mtolist()\u001b[38;5;132;01m}\u001b[39;00m\u001b[38;5;124m not found in axis\u001b[39m\u001b[38;5;124m\"\u001b[39m)\n\u001b[0;32m   7001\u001b[0m     indexer \u001b[38;5;241m=\u001b[39m indexer[\u001b[38;5;241m~\u001b[39mmask]\n\u001b[0;32m   7002\u001b[0m \u001b[38;5;28;01mreturn\u001b[39;00m \u001b[38;5;28mself\u001b[39m\u001b[38;5;241m.\u001b[39mdelete(indexer)\n",
      "\u001b[1;31mKeyError\u001b[0m: \"['prognosis'] not found in axis\""
     ]
    }
   ],
   "source": [
    "data_input = data.drop(columns=['prognosis'])\n",
    "data_output = data['prognosis']"
   ]
  },
  {
   "cell_type": "code",
   "execution_count": null,
   "id": "1b732870",
   "metadata": {
    "papermill": {
     "duration": 0.02434,
     "end_time": "2024-01-03T18:56:46.227974",
     "exception": false,
     "start_time": "2024-01-03T18:56:46.203634",
     "status": "completed"
    },
    "tags": []
   },
   "outputs": [],
   "source": [
    "data['prognosis'].value_counts()"
   ]
  },
  {
   "cell_type": "markdown",
   "id": "8d8de1d9",
   "metadata": {
    "papermill": {
     "duration": 0.01072,
     "end_time": "2024-01-03T18:56:46.249866",
     "exception": false,
     "start_time": "2024-01-03T18:56:46.239146",
     "status": "completed"
    },
    "tags": []
   },
   "source": [
    "# Splitting dataset into training, validation, and test sets"
   ]
  },
  {
   "cell_type": "code",
   "execution_count": 10,
   "id": "6f6672d3",
   "metadata": {
    "execution": {
     "iopub.execute_input": "2024-01-03T18:56:46.273635Z",
     "iopub.status.busy": "2024-01-03T18:56:46.273300Z",
     "iopub.status.idle": "2024-01-03T18:56:46.293854Z",
     "shell.execute_reply": "2024-01-03T18:56:46.292702Z"
    },
    "papermill": {
     "duration": 0.034707,
     "end_time": "2024-01-03T18:56:46.295934",
     "exception": false,
     "start_time": "2024-01-03T18:56:46.261227",
     "status": "completed"
    },
    "tags": []
   },
   "outputs": [
    {
     "name": "stdout",
     "output_type": "stream",
     "text": [
      "X_train.shape = (2410, 132)\n",
      "y_train.shape = (2410,)\n",
      "-------------------------------\n",
      "X_val = (1034, 132)\n",
      "y_val.shape = (1034,)\n",
      "-------------------------------\n",
      "X_test = (1476, 132)\n",
      "y_test.shape = (1476,)\n"
     ]
    }
   ],
   "source": [
    "\n",
    "\n",
    "from sklearn.model_selection import train_test_split\n",
    "\n",
    "X, X_test, y, y_test = train_test_split(data_input, data_output, test_size=0.30, random_state=0)\n",
    "\n",
    "X_train, X_val, y_train, y_val = train_test_split(X, y, test_size=0.30, random_state=0)\n",
    "\n",
    "print('X_train.shape =', X_train.shape)\n",
    "print('y_train.shape =', y_train.shape)\n",
    "print('-------------------------------')\n",
    "print('X_val =', X_val.shape)\n",
    "print('y_val.shape =', y_val.shape)\n",
    "print('-------------------------------')\n",
    "print('X_test =', X_test.shape)\n",
    "print('y_test.shape =', y_test.shape)"
   ]
  },
  {
   "cell_type": "code",
   "execution_count": 11,
   "id": "c8510efe",
   "metadata": {
    "execution": {
     "iopub.execute_input": "2024-01-03T18:56:46.320328Z",
     "iopub.status.busy": "2024-01-03T18:56:46.319530Z",
     "iopub.status.idle": "2024-01-03T18:56:46.325539Z",
     "shell.execute_reply": "2024-01-03T18:56:46.324714Z"
    },
    "papermill": {
     "duration": 0.020087,
     "end_time": "2024-01-03T18:56:46.327413",
     "exception": false,
     "start_time": "2024-01-03T18:56:46.307326",
     "status": "completed"
    },
    "tags": []
   },
   "outputs": [],
   "source": [
    "# value using LabelEncoder\n",
    "encoder = LabelEncoder()\n",
    "data[\"prognosis\"] = encoder.fit_transform(data[\"prognosis\"])"
   ]
  },
  {
   "cell_type": "markdown",
   "id": "c81b2d59",
   "metadata": {
    "papermill": {
     "duration": 0.010801,
     "end_time": "2024-01-03T18:56:46.349227",
     "exception": false,
     "start_time": "2024-01-03T18:56:46.338426",
     "status": "completed"
    },
    "tags": []
   },
   "source": [
    "# KNN Training and Validation"
   ]
  },
  {
   "cell_type": "code",
   "execution_count": 12,
   "id": "1829594a",
   "metadata": {
    "execution": {
     "iopub.execute_input": "2024-01-03T18:56:46.371608Z",
     "iopub.status.busy": "2024-01-03T18:56:46.371338Z",
     "iopub.status.idle": "2024-01-03T18:56:46.816723Z",
     "shell.execute_reply": "2024-01-03T18:56:46.815875Z"
    },
    "papermill": {
     "duration": 0.459003,
     "end_time": "2024-01-03T18:56:46.818916",
     "exception": false,
     "start_time": "2024-01-03T18:56:46.359913",
     "status": "completed"
    },
    "tags": []
   },
   "outputs": [],
   "source": [
    "from sklearn.neighbors import KNeighborsClassifier\n",
    "\n",
    "model = KNeighborsClassifier(n_neighbors = 20)\n",
    "model.fit(X_train, y_train)\n",
    "y_pred_train = model.predict(X_train)\n",
    "y_pred_val = model.predict(X_val)"
   ]
  },
  {
   "cell_type": "code",
   "execution_count": 13,
   "id": "13fe46f6",
   "metadata": {
    "execution": {
     "iopub.execute_input": "2024-01-03T18:56:46.841935Z",
     "iopub.status.busy": "2024-01-03T18:56:46.841584Z",
     "iopub.status.idle": "2024-01-03T18:56:46.854179Z",
     "shell.execute_reply": "2024-01-03T18:56:46.853365Z"
    },
    "papermill": {
     "duration": 0.027029,
     "end_time": "2024-01-03T18:56:46.857018",
     "exception": false,
     "start_time": "2024-01-03T18:56:46.829989",
     "status": "completed"
    },
    "tags": []
   },
   "outputs": [
    {
     "name": "stdout",
     "output_type": "stream",
     "text": [
      "accuracy_train = 1.0\n",
      "accuracy_val = 1.0\n"
     ]
    }
   ],
   "source": [
    "from sklearn.metrics import accuracy_score\n",
    "\n",
    "accuracy_train = accuracy_score(y_train, y_pred_train)\n",
    "accuracy_val = accuracy_score(y_val, y_pred_val)\n",
    "\n",
    "print('accuracy_train =', accuracy_train)\n",
    "print('accuracy_val =', accuracy_val)"
   ]
  },
  {
   "cell_type": "markdown",
   "id": "707417ca",
   "metadata": {
    "papermill": {
     "duration": 0.010605,
     "end_time": "2024-01-03T18:56:46.879110",
     "exception": false,
     "start_time": "2024-01-03T18:56:46.868505",
     "status": "completed"
    },
    "tags": []
   },
   "source": [
    "# Final Test"
   ]
  },
  {
   "cell_type": "code",
   "execution_count": 14,
   "id": "3d39d133",
   "metadata": {
    "execution": {
     "iopub.execute_input": "2024-01-03T18:56:46.901590Z",
     "iopub.status.busy": "2024-01-03T18:56:46.901307Z",
     "iopub.status.idle": "2024-01-03T18:56:47.107022Z",
     "shell.execute_reply": "2024-01-03T18:56:47.105837Z"
    },
    "papermill": {
     "duration": 0.219538,
     "end_time": "2024-01-03T18:56:47.109322",
     "exception": false,
     "start_time": "2024-01-03T18:56:46.889784",
     "status": "completed"
    },
    "tags": []
   },
   "outputs": [
    {
     "name": "stdout",
     "output_type": "stream",
     "text": [
      "1.0\n"
     ]
    }
   ],
   "source": [
    "best_model = KNeighborsClassifier(n_neighbors=10, weights='uniform')\n",
    "best_model.fit(X_train, y_train)\n",
    "y_pred_test = best_model.predict(X_test)\n",
    "accuracy_test = accuracy_score(y_test, y_pred_test)\n",
    "print(accuracy_test)"
   ]
  },
  {
   "cell_type": "markdown",
   "id": "617e5f0f",
   "metadata": {
    "papermill": {
     "duration": 0.010656,
     "end_time": "2024-01-03T18:56:47.131338",
     "exception": false,
     "start_time": "2024-01-03T18:56:47.120682",
     "status": "completed"
    },
    "tags": []
   },
   "source": [
    "## DecisionTree"
   ]
  },
  {
   "cell_type": "markdown",
   "id": "39f4a184",
   "metadata": {
    "papermill": {
     "duration": 0.010357,
     "end_time": "2024-01-03T18:56:47.152524",
     "exception": false,
     "start_time": "2024-01-03T18:56:47.142167",
     "status": "completed"
    },
    "tags": []
   },
   "source": [
    "#  Training and validation (model selection)\n",
    "We train the model using X_train and validate it using X_val. For example let's create a decision tree with max_depth=3."
   ]
  },
  {
   "cell_type": "code",
   "execution_count": 15,
   "id": "706e8119",
   "metadata": {
    "execution": {
     "iopub.execute_input": "2024-01-03T18:56:47.175139Z",
     "iopub.status.busy": "2024-01-03T18:56:47.174794Z",
     "iopub.status.idle": "2024-01-03T18:56:47.178995Z",
     "shell.execute_reply": "2024-01-03T18:56:47.178160Z"
    },
    "papermill": {
     "duration": 0.017788,
     "end_time": "2024-01-03T18:56:47.180945",
     "exception": false,
     "start_time": "2024-01-03T18:56:47.163157",
     "status": "completed"
    },
    "tags": []
   },
   "outputs": [],
   "source": [
    "from sklearn.tree import DecisionTreeClassifier"
   ]
  },
  {
   "cell_type": "code",
   "execution_count": 16,
   "id": "8397cfa4",
   "metadata": {
    "execution": {
     "iopub.execute_input": "2024-01-03T18:56:47.243042Z",
     "iopub.status.busy": "2024-01-03T18:56:47.242467Z",
     "iopub.status.idle": "2024-01-03T18:56:47.246815Z",
     "shell.execute_reply": "2024-01-03T18:56:47.245870Z"
    },
    "papermill": {
     "duration": 0.018154,
     "end_time": "2024-01-03T18:56:47.248720",
     "exception": false,
     "start_time": "2024-01-03T18:56:47.230566",
     "status": "completed"
    },
    "tags": []
   },
   "outputs": [],
   "source": [
    "model = DecisionTreeClassifier(max_depth=3, random_state=2)"
   ]
  },
  {
   "cell_type": "code",
   "execution_count": 17,
   "id": "e2259c1e",
   "metadata": {
    "execution": {
     "iopub.execute_input": "2024-01-03T18:56:47.271507Z",
     "iopub.status.busy": "2024-01-03T18:56:47.271233Z",
     "iopub.status.idle": "2024-01-03T18:56:47.293456Z",
     "shell.execute_reply": "2024-01-03T18:56:47.292638Z"
    },
    "papermill": {
     "duration": 0.03586,
     "end_time": "2024-01-03T18:56:47.295398",
     "exception": false,
     "start_time": "2024-01-03T18:56:47.259538",
     "status": "completed"
    },
    "tags": []
   },
   "outputs": [
    {
     "data": {
      "text/html": [
       "<style>#sk-container-id-1 {color: black;background-color: white;}#sk-container-id-1 pre{padding: 0;}#sk-container-id-1 div.sk-toggleable {background-color: white;}#sk-container-id-1 label.sk-toggleable__label {cursor: pointer;display: block;width: 100%;margin-bottom: 0;padding: 0.3em;box-sizing: border-box;text-align: center;}#sk-container-id-1 label.sk-toggleable__label-arrow:before {content: \"▸\";float: left;margin-right: 0.25em;color: #696969;}#sk-container-id-1 label.sk-toggleable__label-arrow:hover:before {color: black;}#sk-container-id-1 div.sk-estimator:hover label.sk-toggleable__label-arrow:before {color: black;}#sk-container-id-1 div.sk-toggleable__content {max-height: 0;max-width: 0;overflow: hidden;text-align: left;background-color: #f0f8ff;}#sk-container-id-1 div.sk-toggleable__content pre {margin: 0.2em;color: black;border-radius: 0.25em;background-color: #f0f8ff;}#sk-container-id-1 input.sk-toggleable__control:checked~div.sk-toggleable__content {max-height: 200px;max-width: 100%;overflow: auto;}#sk-container-id-1 input.sk-toggleable__control:checked~label.sk-toggleable__label-arrow:before {content: \"▾\";}#sk-container-id-1 div.sk-estimator input.sk-toggleable__control:checked~label.sk-toggleable__label {background-color: #d4ebff;}#sk-container-id-1 div.sk-label input.sk-toggleable__control:checked~label.sk-toggleable__label {background-color: #d4ebff;}#sk-container-id-1 input.sk-hidden--visually {border: 0;clip: rect(1px 1px 1px 1px);clip: rect(1px, 1px, 1px, 1px);height: 1px;margin: -1px;overflow: hidden;padding: 0;position: absolute;width: 1px;}#sk-container-id-1 div.sk-estimator {font-family: monospace;background-color: #f0f8ff;border: 1px dotted black;border-radius: 0.25em;box-sizing: border-box;margin-bottom: 0.5em;}#sk-container-id-1 div.sk-estimator:hover {background-color: #d4ebff;}#sk-container-id-1 div.sk-parallel-item::after {content: \"\";width: 100%;border-bottom: 1px solid gray;flex-grow: 1;}#sk-container-id-1 div.sk-label:hover label.sk-toggleable__label {background-color: #d4ebff;}#sk-container-id-1 div.sk-serial::before {content: \"\";position: absolute;border-left: 1px solid gray;box-sizing: border-box;top: 0;bottom: 0;left: 50%;z-index: 0;}#sk-container-id-1 div.sk-serial {display: flex;flex-direction: column;align-items: center;background-color: white;padding-right: 0.2em;padding-left: 0.2em;position: relative;}#sk-container-id-1 div.sk-item {position: relative;z-index: 1;}#sk-container-id-1 div.sk-parallel {display: flex;align-items: stretch;justify-content: center;background-color: white;position: relative;}#sk-container-id-1 div.sk-item::before, #sk-container-id-1 div.sk-parallel-item::before {content: \"\";position: absolute;border-left: 1px solid gray;box-sizing: border-box;top: 0;bottom: 0;left: 50%;z-index: -1;}#sk-container-id-1 div.sk-parallel-item {display: flex;flex-direction: column;z-index: 1;position: relative;background-color: white;}#sk-container-id-1 div.sk-parallel-item:first-child::after {align-self: flex-end;width: 50%;}#sk-container-id-1 div.sk-parallel-item:last-child::after {align-self: flex-start;width: 50%;}#sk-container-id-1 div.sk-parallel-item:only-child::after {width: 0;}#sk-container-id-1 div.sk-dashed-wrapped {border: 1px dashed gray;margin: 0 0.4em 0.5em 0.4em;box-sizing: border-box;padding-bottom: 0.4em;background-color: white;}#sk-container-id-1 div.sk-label label {font-family: monospace;font-weight: bold;display: inline-block;line-height: 1.2em;}#sk-container-id-1 div.sk-label-container {text-align: center;}#sk-container-id-1 div.sk-container {/* jupyter's `normalize.less` sets `[hidden] { display: none; }` but bootstrap.min.css set `[hidden] { display: none !important; }` so we also need the `!important` here to be able to override the default hidden behavior on the sphinx rendered scikit-learn.org. See: https://github.com/scikit-learn/scikit-learn/issues/21755 */display: inline-block !important;position: relative;}#sk-container-id-1 div.sk-text-repr-fallback {display: none;}</style><div id=\"sk-container-id-1\" class=\"sk-top-container\"><div class=\"sk-text-repr-fallback\"><pre>DecisionTreeClassifier(max_depth=3, random_state=2)</pre><b>In a Jupyter environment, please rerun this cell to show the HTML representation or trust the notebook. <br />On GitHub, the HTML representation is unable to render, please try loading this page with nbviewer.org.</b></div><div class=\"sk-container\" hidden><div class=\"sk-item\"><div class=\"sk-estimator sk-toggleable\"><input class=\"sk-toggleable__control sk-hidden--visually\" id=\"sk-estimator-id-1\" type=\"checkbox\" checked><label for=\"sk-estimator-id-1\" class=\"sk-toggleable__label sk-toggleable__label-arrow\">DecisionTreeClassifier</label><div class=\"sk-toggleable__content\"><pre>DecisionTreeClassifier(max_depth=3, random_state=2)</pre></div></div></div></div></div>"
      ],
      "text/plain": [
       "DecisionTreeClassifier(max_depth=3, random_state=2)"
      ]
     },
     "execution_count": 17,
     "metadata": {},
     "output_type": "execute_result"
    }
   ],
   "source": [
    "model.fit(X_train, y_train)"
   ]
  },
  {
   "cell_type": "code",
   "execution_count": 18,
   "id": "e4bc25af",
   "metadata": {
    "execution": {
     "iopub.execute_input": "2024-01-03T18:56:47.318493Z",
     "iopub.status.busy": "2024-01-03T18:56:47.318225Z",
     "iopub.status.idle": "2024-01-03T18:56:47.322102Z",
     "shell.execute_reply": "2024-01-03T18:56:47.321273Z"
    },
    "papermill": {
     "duration": 0.017701,
     "end_time": "2024-01-03T18:56:47.324040",
     "exception": false,
     "start_time": "2024-01-03T18:56:47.306339",
     "status": "completed"
    },
    "tags": []
   },
   "outputs": [],
   "source": [
    "from sklearn.metrics import accuracy_score"
   ]
  },
  {
   "cell_type": "code",
   "execution_count": 19,
   "id": "53e28a7a",
   "metadata": {
    "execution": {
     "iopub.execute_input": "2024-01-03T18:56:47.347189Z",
     "iopub.status.busy": "2024-01-03T18:56:47.346920Z",
     "iopub.status.idle": "2024-01-03T18:56:47.357941Z",
     "shell.execute_reply": "2024-01-03T18:56:47.357296Z"
    },
    "papermill": {
     "duration": 0.02484,
     "end_time": "2024-01-03T18:56:47.359859",
     "exception": false,
     "start_time": "2024-01-03T18:56:47.335019",
     "status": "completed"
    },
    "tags": []
   },
   "outputs": [],
   "source": [
    "y_pred_train = model.predict(X_train)\n",
    "y_pred_val = model.predict(X_val)"
   ]
  },
  {
   "cell_type": "code",
   "execution_count": 20,
   "id": "61200afd",
   "metadata": {
    "execution": {
     "iopub.execute_input": "2024-01-03T18:56:47.382992Z",
     "iopub.status.busy": "2024-01-03T18:56:47.382729Z",
     "iopub.status.idle": "2024-01-03T18:56:47.394110Z",
     "shell.execute_reply": "2024-01-03T18:56:47.393360Z"
    },
    "papermill": {
     "duration": 0.025135,
     "end_time": "2024-01-03T18:56:47.396067",
     "exception": false,
     "start_time": "2024-01-03T18:56:47.370932",
     "status": "completed"
    },
    "tags": []
   },
   "outputs": [
    {
     "name": "stdout",
     "output_type": "stream",
     "text": [
      "Training accuracy = 0.10995850622406639\n",
      "Validation accuracy = 0.07833655705996131\n"
     ]
    }
   ],
   "source": [
    "print('Training accuracy =', accuracy_score(y_train, y_pred_train))\n",
    "print('Validation accuracy =', accuracy_score(y_val, y_pred_val))"
   ]
  },
  {
   "cell_type": "markdown",
   "id": "2d36e556",
   "metadata": {
    "papermill": {
     "duration": 0.01081,
     "end_time": "2024-01-03T18:56:47.417878",
     "exception": false,
     "start_time": "2024-01-03T18:56:47.407068",
     "status": "completed"
    },
    "tags": []
   },
   "source": [
    "## Try changing the model hyper-parameters (such as max_depth) and keep repeating the training and validation process until you achieve a good validation accuracy value"
   ]
  },
  {
   "cell_type": "code",
   "execution_count": 21,
   "id": "a3bc04eb",
   "metadata": {
    "execution": {
     "iopub.execute_input": "2024-01-03T18:56:47.442495Z",
     "iopub.status.busy": "2024-01-03T18:56:47.441921Z",
     "iopub.status.idle": "2024-01-03T18:56:47.650956Z",
     "shell.execute_reply": "2024-01-03T18:56:47.650206Z"
    },
    "papermill": {
     "duration": 0.224438,
     "end_time": "2024-01-03T18:56:47.653267",
     "exception": false,
     "start_time": "2024-01-03T18:56:47.428829",
     "status": "completed"
    },
    "tags": []
   },
   "outputs": [],
   "source": [
    "# we are going to try these values\n",
    "max_depth_values = [1, 2, 3, 4, 5, 6, 7, 8]\n",
    "\n",
    "# we store the accuracy values of our experiments in two lists \n",
    "# (for training and validation)\n",
    "training_accuracy_values = []\n",
    "validation_accuracy_values = []\n",
    "\n",
    "# we loop over the max_depth_values\n",
    "for max_depth_val in max_depth_values:\n",
    "    \n",
    "    # create the model\n",
    "    model = DecisionTreeClassifier(max_depth=max_depth_val, \n",
    "                                   random_state=2)\n",
    "    \n",
    "    # train the model\n",
    "    model.fit(X_train, y_train)\n",
    "    \n",
    "    # calculate the training and validation accuracy\n",
    "    y_pred_train = model.predict(X_train)\n",
    "    y_pred_val = model.predict(X_val)\n",
    "    acc_train = accuracy_score(y_train, y_pred_train)\n",
    "    acc_val = accuracy_score(y_val, y_pred_val)\n",
    "    \n",
    "    # add these results to the lists\n",
    "    training_accuracy_values.append(acc_train)\n",
    "    validation_accuracy_values.append(acc_val)"
   ]
  },
  {
   "cell_type": "code",
   "execution_count": 22,
   "id": "867ff9c6",
   "metadata": {
    "execution": {
     "iopub.execute_input": "2024-01-03T18:56:47.678797Z",
     "iopub.status.busy": "2024-01-03T18:56:47.678475Z",
     "iopub.status.idle": "2024-01-03T18:56:47.683508Z",
     "shell.execute_reply": "2024-01-03T18:56:47.682694Z"
    },
    "papermill": {
     "duration": 0.019196,
     "end_time": "2024-01-03T18:56:47.685463",
     "exception": false,
     "start_time": "2024-01-03T18:56:47.666267",
     "status": "completed"
    },
    "tags": []
   },
   "outputs": [],
   "source": [
    "import matplotlib.pyplot as plt\n",
    "%matplotlib inline"
   ]
  },
  {
   "cell_type": "code",
   "execution_count": 23,
   "id": "4e821317",
   "metadata": {
    "execution": {
     "iopub.execute_input": "2024-01-03T18:56:47.708926Z",
     "iopub.status.busy": "2024-01-03T18:56:47.708634Z",
     "iopub.status.idle": "2024-01-03T18:56:48.028381Z",
     "shell.execute_reply": "2024-01-03T18:56:48.027511Z"
    },
    "papermill": {
     "duration": 0.334105,
     "end_time": "2024-01-03T18:56:48.030837",
     "exception": false,
     "start_time": "2024-01-03T18:56:47.696732",
     "status": "completed"
    },
    "tags": []
   },
   "outputs": [
    {
     "data": {
      "image/png": "[encoded data removed]",
      "text/plain": [
       "<Figure size 640x480 with 1 Axes>"
      ]
     },
     "metadata": {},
     "output_type": "display_data"
    }
   ],
   "source": [
    "plt.plot(max_depth_values, training_accuracy_values, label=\"train acc\")\n",
    "plt.plot(max_depth_values, validation_accuracy_values, label=\"val acc\")\n",
    "plt.xlabel('max_depth')\n",
    "plt.ylabel('accuracy')\n",
    "plt.title('Relationship between max_depth and accuracy')\n",
    "plt.legend()\n",
    "plt.show()"
   ]
  },
  {
   "cell_type": "markdown",
   "id": "3b51c63e",
   "metadata": {
    "execution": {
     "iopub.execute_input": "2024-01-03T18:31:05.404665Z",
     "iopub.status.busy": "2024-01-03T18:31:05.404310Z",
     "iopub.status.idle": "2024-01-03T18:31:05.411309Z",
     "shell.execute_reply": "2024-01-03T18:31:05.410060Z",
     "shell.execute_reply.started": "2024-01-03T18:31:05.404637Z"
    },
    "papermill": {
     "duration": 0.011681,
     "end_time": "2024-01-03T18:56:48.054579",
     "exception": false,
     "start_time": "2024-01-03T18:56:48.042898",
     "status": "completed"
    },
    "tags": []
   },
   "source": [
    "The previous plot shows that the best result is achieved when max_depth=3. As the max_depth increases, the validation accuracy becomes low compared to training accuracy. This is known as \"overfitting\".\n",
    "\n",
    "So the best model has max_depth=3:"
   ]
  },
  {
   "cell_type": "code",
   "execution_count": 24,
   "id": "ff9bacf8",
   "metadata": {
    "execution": {
     "iopub.execute_input": "2024-01-03T18:56:48.079170Z",
     "iopub.status.busy": "2024-01-03T18:56:48.078870Z",
     "iopub.status.idle": "2024-01-03T18:56:48.114682Z",
     "shell.execute_reply": "2024-01-03T18:56:48.113841Z"
    },
    "papermill": {
     "duration": 0.050259,
     "end_time": "2024-01-03T18:56:48.116497",
     "exception": false,
     "start_time": "2024-01-03T18:56:48.066238",
     "status": "completed"
    },
    "tags": []
   },
   "outputs": [
    {
     "data": {
      "text/html": [
       "<style>#sk-container-id-2 {color: black;background-color: white;}#sk-container-id-2 pre{padding: 0;}#sk-container-id-2 div.sk-toggleable {background-color: white;}#sk-container-id-2 label.sk-toggleable__label {cursor: pointer;display: block;width: 100%;margin-bottom: 0;padding: 0.3em;box-sizing: border-box;text-align: center;}#sk-container-id-2 label.sk-toggleable__label-arrow:before {content: \"▸\";float: left;margin-right: 0.25em;color: #696969;}#sk-container-id-2 label.sk-toggleable__label-arrow:hover:before {color: black;}#sk-container-id-2 div.sk-estimator:hover label.sk-toggleable__label-arrow:before {color: black;}#sk-container-id-2 div.sk-toggleable__content {max-height: 0;max-width: 0;overflow: hidden;text-align: left;background-color: #f0f8ff;}#sk-container-id-2 div.sk-toggleable__content pre {margin: 0.2em;color: black;border-radius: 0.25em;background-color: #f0f8ff;}#sk-container-id-2 input.sk-toggleable__control:checked~div.sk-toggleable__content {max-height: 200px;max-width: 100%;overflow: auto;}#sk-container-id-2 input.sk-toggleable__control:checked~label.sk-toggleable__label-arrow:before {content: \"▾\";}#sk-container-id-2 div.sk-estimator input.sk-toggleable__control:checked~label.sk-toggleable__label {background-color: #d4ebff;}#sk-container-id-2 div.sk-label input.sk-toggleable__control:checked~label.sk-toggleable__label {background-color: #d4ebff;}#sk-container-id-2 input.sk-hidden--visually {border: 0;clip: rect(1px 1px 1px 1px);clip: rect(1px, 1px, 1px, 1px);height: 1px;margin: -1px;overflow: hidden;padding: 0;position: absolute;width: 1px;}#sk-container-id-2 div.sk-estimator {font-family: monospace;background-color: #f0f8ff;border: 1px dotted black;border-radius: 0.25em;box-sizing: border-box;margin-bottom: 0.5em;}#sk-container-id-2 div.sk-estimator:hover {background-color: #d4ebff;}#sk-container-id-2 div.sk-parallel-item::after {content: \"\";width: 100%;border-bottom: 1px solid gray;flex-grow: 1;}#sk-container-id-2 div.sk-label:hover label.sk-toggleable__label {background-color: #d4ebff;}#sk-container-id-2 div.sk-serial::before {content: \"\";position: absolute;border-left: 1px solid gray;box-sizing: border-box;top: 0;bottom: 0;left: 50%;z-index: 0;}#sk-container-id-2 div.sk-serial {display: flex;flex-direction: column;align-items: center;background-color: white;padding-right: 0.2em;padding-left: 0.2em;position: relative;}#sk-container-id-2 div.sk-item {position: relative;z-index: 1;}#sk-container-id-2 div.sk-parallel {display: flex;align-items: stretch;justify-content: center;background-color: white;position: relative;}#sk-container-id-2 div.sk-item::before, #sk-container-id-2 div.sk-parallel-item::before {content: \"\";position: absolute;border-left: 1px solid gray;box-sizing: border-box;top: 0;bottom: 0;left: 50%;z-index: -1;}#sk-container-id-2 div.sk-parallel-item {display: flex;flex-direction: column;z-index: 1;position: relative;background-color: white;}#sk-container-id-2 div.sk-parallel-item:first-child::after {align-self: flex-end;width: 50%;}#sk-container-id-2 div.sk-parallel-item:last-child::after {align-self: flex-start;width: 50%;}#sk-container-id-2 div.sk-parallel-item:only-child::after {width: 0;}#sk-container-id-2 div.sk-dashed-wrapped {border: 1px dashed gray;margin: 0 0.4em 0.5em 0.4em;box-sizing: border-box;padding-bottom: 0.4em;background-color: white;}#sk-container-id-2 div.sk-label label {font-family: monospace;font-weight: bold;display: inline-block;line-height: 1.2em;}#sk-container-id-2 div.sk-label-container {text-align: center;}#sk-container-id-2 div.sk-container {/* jupyter's `normalize.less` sets `[hidden] { display: none; }` but bootstrap.min.css set `[hidden] { display: none !important; }` so we also need the `!important` here to be able to override the default hidden behavior on the sphinx rendered scikit-learn.org. See: https://github.com/scikit-learn/scikit-learn/issues/21755 */display: inline-block !important;position: relative;}#sk-container-id-2 div.sk-text-repr-fallback {display: none;}</style><div id=\"sk-container-id-2\" class=\"sk-top-container\"><div class=\"sk-text-repr-fallback\"><pre>DecisionTreeClassifier(max_depth=45, random_state=2)</pre><b>In a Jupyter environment, please rerun this cell to show the HTML representation or trust the notebook. <br />On GitHub, the HTML representation is unable to render, please try loading this page with nbviewer.org.</b></div><div class=\"sk-container\" hidden><div class=\"sk-item\"><div class=\"sk-estimator sk-toggleable\"><input class=\"sk-toggleable__control sk-hidden--visually\" id=\"sk-estimator-id-2\" type=\"checkbox\" checked><label for=\"sk-estimator-id-2\" class=\"sk-toggleable__label sk-toggleable__label-arrow\">DecisionTreeClassifier</label><div class=\"sk-toggleable__content\"><pre>DecisionTreeClassifier(max_depth=45, random_state=2)</pre></div></div></div></div></div>"
      ],
      "text/plain": [
       "DecisionTreeClassifier(max_depth=45, random_state=2)"
      ]
     },
     "execution_count": 24,
     "metadata": {},
     "output_type": "execute_result"
    }
   ],
   "source": [
    "model_best = DecisionTreeClassifier(max_depth=45, random_state=2)\n",
    "model_best.fit(X_train, y_train)"
   ]
  },
  {
   "cell_type": "markdown",
   "id": "80d48cae",
   "metadata": {
    "papermill": {
     "duration": 0.011743,
     "end_time": "2024-01-03T18:56:48.140096",
     "exception": false,
     "start_time": "2024-01-03T18:56:48.128353",
     "status": "completed"
    },
    "tags": []
   },
   "source": [
    "#  Testing\n",
    "After we select the final model, we test it using the un-seen test data. \n",
    "\n",
    "**Warning:** After we test the model, we are not allowed to modify it and test it again using the same data!"
   ]
  },
  {
   "cell_type": "code",
   "execution_count": 25,
   "id": "f2625849",
   "metadata": {
    "execution": {
     "iopub.execute_input": "2024-01-03T18:56:48.165303Z",
     "iopub.status.busy": "2024-01-03T18:56:48.165022Z",
     "iopub.status.idle": "2024-01-03T18:56:48.172486Z",
     "shell.execute_reply": "2024-01-03T18:56:48.171772Z"
    },
    "papermill": {
     "duration": 0.022315,
     "end_time": "2024-01-03T18:56:48.174482",
     "exception": false,
     "start_time": "2024-01-03T18:56:48.152167",
     "status": "completed"
    },
    "tags": []
   },
   "outputs": [],
   "source": [
    "y_pred_test = model_best.predict(X_test)"
   ]
  },
  {
   "cell_type": "code",
   "execution_count": 26,
   "id": "4068f8dd",
   "metadata": {
    "execution": {
     "iopub.execute_input": "2024-01-03T18:56:48.199743Z",
     "iopub.status.busy": "2024-01-03T18:56:48.199452Z",
     "iopub.status.idle": "2024-01-03T18:56:48.206671Z",
     "shell.execute_reply": "2024-01-03T18:56:48.205832Z"
    },
    "papermill": {
     "duration": 0.022324,
     "end_time": "2024-01-03T18:56:48.208779",
     "exception": false,
     "start_time": "2024-01-03T18:56:48.186455",
     "status": "completed"
    },
    "tags": []
   },
   "outputs": [
    {
     "name": "stdout",
     "output_type": "stream",
     "text": [
      "Test accuracy: 0.9850948509485095\n"
     ]
    }
   ],
   "source": [
    "print('Test accuracy:', accuracy_score(y_test, y_pred_test))"
   ]
  },
  {
   "cell_type": "code",
   "execution_count": 27,
   "id": "e8a84111",
   "metadata": {
    "papermill": {
     "duration": 0.011739,
     "end_time": "2024-01-03T18:56:48.232518",
     "exception": false,
     "start_time": "2024-01-03T18:56:48.220779",
     "status": "completed"
    },
    "tags": []
   },
   "outputs": [
    {
     "data": {
      "text/plain": [
       "['knn_clf.joblib']"
      ]
     },
     "execution_count": 27,
     "metadata": {},
     "output_type": "execute_result"
    }
   ],
   "source": [
    "import joblib\n",
    "joblib.dump(model_best,\"knn_clf.joblib\")"
   ]
  },
  {
   "cell_type": "code",
   "execution_count": null,
   "id": "3c31f749",
   "metadata": {},
   "outputs": [],
   "source": []
  }
 ],
 "metadata": {
  "kaggle": {
   "accelerator": "gpu",
   "dataSources": [
    {
     "datasetId": 654897,
     "sourceId": 1157702,
     "sourceType": "datasetVersion"
    }
   ],
   "dockerImageVersionId": 30627,
   "isGpuEnabled": true,
   "isInternetEnabled": true,
   "language": "python",
   "sourceType": "notebook"
  },
  "kernelspec": {
   "display_name": "Python 3 (ipykernel)",
   "language": "python",
   "name": "python3"
  },
  "language_info": {
   "codemirror_mode": {
    "name": "ipython",
    "version": 3
   },
   "file_extension": ".py",
   "mimetype": "text/x-python",
   "name": "python",
   "nbconvert_exporter": "python",
   "pygments_lexer": "ipython3",
   "version": "3.10.9"
  },
  "papermill": {
   "default_parameters": {},
   "duration": 8.304954,
   "end_time": "2024-01-03T18:56:48.663339",
   "environment_variables": {},
   "exception": null,
   "input_path": "__notebook__.ipynb",
   "output_path": "__notebook__.ipynb",
   "parameters": {},
   "start_time": "2024-01-03T18:56:40.358385",
   "version": "2.4.0"
  }
 },
 "nbformat": 4,
 "nbformat_minor": 5
}
